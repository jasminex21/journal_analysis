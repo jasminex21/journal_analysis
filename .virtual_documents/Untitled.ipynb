from pypdf import PdfReader
from dateutil.parser import parse

import pandas as pd

# from wordcloud import WordCloud, STOPWORDS
from nltk.corpus import stopwords
import matplotlib.pyplot as plt
from datetime import datetime

import string
from nltk import ngrams


ENTRIES = pd.read_csv("/home/jasmine/PROJECTS/journal_analysis/data/OCT10.csv")
ENTRIES


punctuation_to_remove = set(string.punctuation) - set("'")


STOPWORDS = stopwords.words("english")
addl_stopwords = ["i’m", "like", "abt", "bc", "really", "get", 
                 "i’ve", "i’d", "he’s", "got", "i’ll", "can’t",
                 "would", "could", "rlly", "he’d", "she’s", 
                 "she’d", "it’ll", "put", "let"]
STOPWORDS += addl_stopwords
STOPWORDS = [word.replace("'", "’") for word in STOPWORDS]


# removing punctuation
ENTRIES["entry"] = ENTRIES["entry"].str.replace(f'[{punctuation_to_remove}]', '', regex=True)


def get_words_and_bigrams(text):

    words = [word.lower().strip() for word in text.split() if word.lower().strip() not in STOPWORDS]
    bigrams_list = list(ngrams(words, 2))
    return words + [' '.join(bigram) for bigram in bigrams_list]


all_words_and_bigrams = ENTRIES["entry"].apply(get_words_and_bigrams).explode()
all_words_and_bigrams


COUNTS = pd.DataFrame(all_words_and_bigrams.value_counts(), columns=['count']).reset_index()
COUNTS = COUNTS.rename(columns={"entry": "ngram", "count": "value"})
COUNTS


# remove words that are just one character long
COUNTS = COUNTS[COUNTS["ngram"].str.len() > 1]


COUNTS


COUNTS.to_csv("temp_counts.csv", index=False)


COUNTS.head(50)


# filter out stopwords
COUNTS = COUNTS[~COUNTS["ngram"].isin(STOPWORDS)]
COUNTS


word_dict = list(COUNTS.T.to_dict().values())


freqs = dict(zip(COUNTS['ngram'].tolist(), COUNTS['value'].tolist()))


wc = WordCloud(width=800, height=400, max_words=200).generate_from_frequencies(freqs)


plt.figure(figsize=(10, 10))
plt.imshow(wc, interpolation='bilinear')
plt.axis('off')
plt.show()


import streamlit_wordcloud as wordcloud


return_obj = wordcloud.visualize(word_dict, tooltip_data_fields={'text':'ngram', 'count':'Count'}, per_word_coloring=False)


COUNTS.to_csv("COUNTS_OCT10.csv", index=False)



