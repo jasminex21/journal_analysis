


from pypdf import PdfReader
from dateutil.parser import parse

import pandas as pd

from wordcloud import WordCloud
import matplotlib.pyplot as plt


# read in journal data from PDF
# ultimately I want to cache data that has already been processed, and just append new data to it
reader = PdfReader("/home/jasmine/PROJECTS/journal_analysis/data/Journal.pdf")
pages = reader.pages


# function to detect date
def is_date(string, fuzzy=False):

    try: 
        parse(string, fuzzy=fuzzy)
        return True

    except ValueError:
        return False


# dict to store entries; key = date of entry
entries = {}
last_possible_date = ""
for page in pages: 
    # extraction_mode=layout to preserve the layout in the original PDF
    text = page.extract_text(extraction_mode="layout")
    ls = text.split("\n")
    # if the first row in the page is a date...
    possible_date = ", ".join(ls[0].split(", ")[1:]).replace(" ", "")
    if is_date(possible_date):
        last_possible_date = possible_date
        entries[possible_date] = "\n".join(ls[1:]).replace("\n", " ").lstrip()
    else: 
        entries[last_possible_date] += text.replace("\n", " ")


entries


entries.keys()


len(entries)


ENTRIES = pd.DataFrame({
    "date": list(entries.keys()),
    "entry": list(entries.values())
})


ENTRIES


ENTRIES["entry"].loc[0]


all_text = " ".join(entry for entry in ENTRIES["entry"]).lower()


all_text


wordcloud.STOPWORDS


stopwords = ["bc", "abt", "ve"]


wordcloud = WordCloud(width=800, height=400, background_color='white', min_word_length=2, stopwords=stopwords).generate(all_text) 

plt.figure(figsize=(10, 5))
plt.imshow(wordcloud, interpolation='bilinear')
plt.axis("off")
plt.show()



